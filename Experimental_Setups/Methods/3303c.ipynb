{
 "cells": [
  {
   "cell_type": "code",
   "execution_count": 1,
   "metadata": {},
   "outputs": [],
   "source": [
    "#INITIALIZATION\n",
    "import math\n",
    "import pyvisa\n",
    "import time\n",
    "\n",
    "#Keithley\n",
    "from pymeasure.instruments.keithley import Keithley2400\n",
    "sm = Keithley2400(\"USB0::0x05E6::0x2450::04577394::INSTR\")\n",
    "#Siglet\n",
    "pm = pyvisa.ResourceManager()\n",
    "pm.list_resources()\n",
    "inst = pm.open_resource('USB0::0xF4EC::0x1430::SPD3EGGD6R3960::INSTR',)"
   ]
  },
  {
   "cell_type": "code",
   "execution_count": 2,
   "metadata": {},
   "outputs": [
    {
     "name": "stdout",
     "output_type": "stream",
     "text": [
      "CH1\n",
      "\n",
      "0.80\n",
      " Amps\n"
     ]
    }
   ],
   "source": [
    "#set chanel\n",
    "inst.write(\"INST CH1\")\n",
    "print(inst.query(\"INST?\"))\n",
    "#set amperage on siglet\n",
    "inst.write(\"CH1:CURR 0.8\")\n",
    "print(inst.query(\"CH1:CURR?\"),\"Amps\")"
   ]
  },
  {
   "cell_type": "code",
   "execution_count": 88,
   "metadata": {},
   "outputs": [
    {
     "name": "stdout",
     "output_type": "stream",
     "text": [
      "112.9391 ohms\n",
      "29.760741 C\n"
     ]
    }
   ],
   "source": [
    "#resistance to temperature calculation\n",
    "RT = sm.resistance\n",
    "print(RT, \"ohms\")\n",
    "\n",
    "temp = (-3.9083e-3 + math.sqrt((3.9083e-3**2)-(4*-5.775e-7*((RT/100)-1))))/(2*-5.775e-7) #pt100 datasheet equation\n",
    "roundTemp = round(-temp -3.18559, 6)\n",
    "print(roundTemp,\"C\")"
   ]
  },
  {
   "cell_type": "code",
   "execution_count": 78,
   "metadata": {},
   "outputs": [],
   "source": [
    "sm.beep(1000, 2)"
   ]
  },
  {
   "cell_type": "code",
   "execution_count": 13,
   "metadata": {},
   "outputs": [
    {
     "name": "stdout",
     "output_type": "stream",
     "text": [
      "setpoint was reached\n"
     ]
    }
   ],
   "source": [
    "inst.write(\"OUTP CH1,ON\")#turns the chanel 1 output ON\n",
    "#PID\n",
    "setpoint = 27 #temperature setpoint\n",
    "pi = 0.01 #voltage increment\n",
    "pmvolt = 1 #initial voltage setting\n",
    "time.sleep(10)\n",
    "error = setpoint - roundTemp\n",
    "while error >0:\n",
    "    inst.write(\"CH1:VOLT \" + str(pmvolt))\n",
    "    vnow = inst.query(\"CH1:VOLT?\")#reads voltage value\n",
    "    print(vnow, \"volts\")\n",
    "    print(roundTemp, \"C\")\n",
    "    pmvolt+=pi\n",
    "    time.sleep(2)\n",
    "else: \n",
    "    time.sleep(10)\n",
    "    inst.write(\"OUTP CH1,OFF\")\n",
    "    print(\"setpoint was reached\")"
   ]
  },
  {
   "cell_type": "code",
   "execution_count": 14,
   "metadata": {},
   "outputs": [
    {
     "data": {
      "text/plain": [
       "1.16"
      ]
     },
     "execution_count": 14,
     "metadata": {},
     "output_type": "execute_result"
    }
   ],
   "source": [
    "float(inst.query(\"CH1:VOLT?\"))"
   ]
  }
 ],
 "metadata": {
  "kernelspec": {
   "display_name": "base",
   "language": "python",
   "name": "python3"
  },
  "language_info": {
   "codemirror_mode": {
    "name": "ipython",
    "version": 3
   },
   "file_extension": ".py",
   "mimetype": "text/x-python",
   "name": "python",
   "nbconvert_exporter": "python",
   "pygments_lexer": "ipython3",
   "version": "3.12.4"
  }
 },
 "nbformat": 4,
 "nbformat_minor": 2
}
